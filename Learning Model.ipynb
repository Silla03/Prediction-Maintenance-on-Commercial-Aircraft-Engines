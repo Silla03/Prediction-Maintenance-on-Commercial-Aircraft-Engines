{
 "cells": [
  {
   "cell_type": "code",
   "execution_count": 2,
   "metadata": {},
   "outputs": [],
   "source": [
    "import numpy as np\n",
    "import matplotlib.pyplot as plt\n",
    "import pandas as pd\n",
    "import seaborn as sns\n"
   ]
  },
  {
   "cell_type": "code",
   "execution_count": 3,
   "metadata": {},
   "outputs": [],
   "source": [
    "from sklearn.model_selection import train_test_split\n",
    "from sklearn.model_selection import GridSearchCV\n",
    "from sklearn.ensemble import RandomForestRegressor\n",
    "from sklearn import metrics"
   ]
  },
  {
   "cell_type": "code",
   "execution_count": 4,
   "metadata": {},
   "outputs": [],
   "source": [
    "def give_Test_engine(start_cycle, end_cycle):\n",
    "    df = pd.read_csv(\"Processed_Test_004.csv\")\n",
    "    test = df[(df['Cycle'] >= start_cycle) & (df['Cycle'] <= end_cycle)]  # Select data based on cycle range\n",
    "    X_test = test.drop(columns=['RUL'])  # Drop the target column to get features\n",
    "    y_test = test['RUL']  # Target column\n",
    "    return X_test, y_test"
   ]
  },
  {
   "cell_type": "code",
   "execution_count": 5,
   "metadata": {},
   "outputs": [],
   "source": [
    "def give_Test_engine(start_cycle, end_cycle):\n",
    "    df = pd.read_csv(\"Processed_Test_004.csv\")\n",
    "    test = df[(df['Cycle'] >= start_cycle) & (df['Cycle'] <= end_cycle)]  # Select data based on cycle range\n",
    "    X_test = test.drop(columns=['RUL'])  # Drop the target column to get features\n",
    "    y_test = test['RUL']  # Target column\n",
    "    return X_test, y_test"
   ]
  },
  {
   "cell_type": "code",
   "execution_count": 6,
   "metadata": {},
   "outputs": [],
   "source": [
    "def give_Test_engine(start_cycle, end_cycle):\n",
    "    df = pd.read_csv(\"Processed_Test_003.csv\")\n",
    "    test = df[(df['Cycle'] >= start_cycle) & (df['Cycle'] <= end_cycle)]  # Select data based on cycle range\n",
    "    X_test = test.drop(columns=['RUL'])  # Drop the target column to get features\n",
    "    y_test = test['RUL']  # Target column\n",
    "    return X_test, y_test"
   ]
  },
  {
   "cell_type": "code",
   "execution_count": 7,
   "metadata": {},
   "outputs": [],
   "source": [
    "def give_Test_engine(start_cycle, end_cycle):\n",
    "    df = pd.read_csv(\"Processed_Test_004.csv\")\n",
    "    test = df[(df['Cycle'] >= start_cycle) & (df['Cycle'] <= end_cycle)]  # Select data based on cycle range\n",
    "    X_test = test.drop(columns=['RUL'])  # Drop the target column to get features\n",
    "    y_test = test['RUL']  # Target column\n",
    "    return X_test, y_test\n"
   ]
  },
  {
   "cell_type": "code",
   "execution_count": 8,
   "metadata": {},
   "outputs": [],
   "source": [
    "def give_Train_engine(Train_no,engine_id):\n",
    "    import pandas as pd\n",
    "    import numpy as np\n",
    "    df=pd.read_csv(\"Processed_Train_001.csv\")\n",
    "    train = df[df['ID']==engine_id]\n",
    "    train = train.drop(columns=['ID'])\n",
    "    X_train=train.iloc[:,:-1]\n",
    "    y_train=train.iloc[:,-1]\n",
    "    return X_train,y_train"
   ]
  },
  {
   "cell_type": "code",
   "execution_count": 9,
   "metadata": {},
   "outputs": [],
   "source": [
    "def give_engine(Train_no,engine_id):\n",
    "    import pandas as pd\n",
    "    import numpy as np\n",
    "    df=pd.read_csv(\"Processed_Train_002.csv\")\n",
    "    train = df[df['ID']==engine_id]\n",
    "    train = train.drop(columns=['ID'])\n",
    "    X_train=train.iloc[:,:-1]\n",
    "    y_train=train.iloc[:,-1]\n",
    "    return X_train,y_train"
   ]
  },
  {
   "cell_type": "code",
   "execution_count": 10,
   "metadata": {},
   "outputs": [],
   "source": [
    "def give_engine(Train_no,engine_id):\n",
    "    import pandas as pd\n",
    "    import numpy as np\n",
    "    df=pd.read_csv(\"Processed_Train_003.csv\")\n",
    "    train = df[df['ID']==engine_id]\n",
    "    train = train.drop(columns=['ID'])\n",
    "    X_train=train.iloc[:,:-1]\n",
    "    y_train=train.iloc[:,-1]\n",
    "    return X_train,y_train"
   ]
  },
  {
   "cell_type": "code",
   "execution_count": 11,
   "metadata": {},
   "outputs": [],
   "source": [
    "def give_engine(Train_no,engine_id):\n",
    "    import pandas as pd\n",
    "    import numpy as np\n",
    "    df=pd.read_csv(\"Processed_Train_004.csv\")\n",
    "    train = df[df['ID']==engine_id]\n",
    "    train = train.drop(columns=['ID'])\n",
    "    X_train=train.iloc[:,:-1]\n",
    "    y_train=train.iloc[:,-1]\n",
    "    return X_train,y_train"
   ]
  },
  {
   "cell_type": "markdown",
   "metadata": {},
   "source": [
    "Importing all the training data"
   ]
  },
  {
   "cell_type": "code",
   "execution_count": 12,
   "metadata": {},
   "outputs": [],
   "source": [
    "df1 = pd.read_csv('Processed_Train_001.csv')\n",
    "df2 = pd.read_csv('Processed_Train_002.csv')\n",
    "df3 = pd.read_csv('Processed_Train_003.csv')\n",
    "df4 = pd.read_csv('Processed_Train_004.csv')\n",
    "\n",
    "df=pd.concat([df1,df2,df3,df4])"
   ]
  },
  {
   "cell_type": "code",
   "execution_count": 13,
   "metadata": {},
   "outputs": [],
   "source": [
    "df = df.drop(columns=['ID'])\n"
   ]
  },
  {
   "cell_type": "code",
   "execution_count": 14,
   "metadata": {},
   "outputs": [
    {
     "data": {
      "text/html": [
       "<div>\n",
       "<style scoped>\n",
       "    .dataframe tbody tr th:only-of-type {\n",
       "        vertical-align: middle;\n",
       "    }\n",
       "\n",
       "    .dataframe tbody tr th {\n",
       "        vertical-align: top;\n",
       "    }\n",
       "\n",
       "    .dataframe thead th {\n",
       "        text-align: right;\n",
       "    }\n",
       "</style>\n",
       "<table border=\"1\" class=\"dataframe\">\n",
       "  <thead>\n",
       "    <tr style=\"text-align: right;\">\n",
       "      <th></th>\n",
       "      <th>Cycle</th>\n",
       "      <th>SensorMeasure2</th>\n",
       "      <th>SensorMeasure3</th>\n",
       "      <th>SensorMeasure4</th>\n",
       "      <th>SensorMeasure7</th>\n",
       "      <th>SensorMeasure8</th>\n",
       "      <th>SensorMeasure11</th>\n",
       "      <th>SensorMeasure12</th>\n",
       "      <th>SensorMeasure13</th>\n",
       "      <th>SensorMeasure15</th>\n",
       "      <th>SensorMeasure17</th>\n",
       "      <th>SensorMeasure20</th>\n",
       "      <th>SensorMeasure21</th>\n",
       "      <th>RUL</th>\n",
       "    </tr>\n",
       "  </thead>\n",
       "  <tbody>\n",
       "    <tr>\n",
       "      <th>0</th>\n",
       "      <td>1</td>\n",
       "      <td>641.82</td>\n",
       "      <td>1589.70</td>\n",
       "      <td>1400.60</td>\n",
       "      <td>554.36</td>\n",
       "      <td>2388.06</td>\n",
       "      <td>47.47</td>\n",
       "      <td>521.66</td>\n",
       "      <td>2388.02</td>\n",
       "      <td>8.4195</td>\n",
       "      <td>392</td>\n",
       "      <td>39.06</td>\n",
       "      <td>23.4190</td>\n",
       "      <td>191</td>\n",
       "    </tr>\n",
       "    <tr>\n",
       "      <th>1</th>\n",
       "      <td>2</td>\n",
       "      <td>642.15</td>\n",
       "      <td>1591.82</td>\n",
       "      <td>1403.14</td>\n",
       "      <td>553.75</td>\n",
       "      <td>2388.04</td>\n",
       "      <td>47.49</td>\n",
       "      <td>522.28</td>\n",
       "      <td>2388.07</td>\n",
       "      <td>8.4318</td>\n",
       "      <td>392</td>\n",
       "      <td>39.00</td>\n",
       "      <td>23.4236</td>\n",
       "      <td>190</td>\n",
       "    </tr>\n",
       "    <tr>\n",
       "      <th>2</th>\n",
       "      <td>3</td>\n",
       "      <td>642.35</td>\n",
       "      <td>1587.99</td>\n",
       "      <td>1404.20</td>\n",
       "      <td>554.26</td>\n",
       "      <td>2388.08</td>\n",
       "      <td>47.27</td>\n",
       "      <td>522.42</td>\n",
       "      <td>2388.03</td>\n",
       "      <td>8.4178</td>\n",
       "      <td>390</td>\n",
       "      <td>38.95</td>\n",
       "      <td>23.3442</td>\n",
       "      <td>189</td>\n",
       "    </tr>\n",
       "    <tr>\n",
       "      <th>3</th>\n",
       "      <td>4</td>\n",
       "      <td>642.35</td>\n",
       "      <td>1582.79</td>\n",
       "      <td>1401.87</td>\n",
       "      <td>554.45</td>\n",
       "      <td>2388.11</td>\n",
       "      <td>47.13</td>\n",
       "      <td>522.86</td>\n",
       "      <td>2388.08</td>\n",
       "      <td>8.3682</td>\n",
       "      <td>392</td>\n",
       "      <td>38.88</td>\n",
       "      <td>23.3739</td>\n",
       "      <td>188</td>\n",
       "    </tr>\n",
       "    <tr>\n",
       "      <th>4</th>\n",
       "      <td>5</td>\n",
       "      <td>642.37</td>\n",
       "      <td>1582.85</td>\n",
       "      <td>1406.22</td>\n",
       "      <td>554.00</td>\n",
       "      <td>2388.06</td>\n",
       "      <td>47.28</td>\n",
       "      <td>522.19</td>\n",
       "      <td>2388.04</td>\n",
       "      <td>8.4294</td>\n",
       "      <td>393</td>\n",
       "      <td>38.90</td>\n",
       "      <td>23.4044</td>\n",
       "      <td>187</td>\n",
       "    </tr>\n",
       "    <tr>\n",
       "      <th>...</th>\n",
       "      <td>...</td>\n",
       "      <td>...</td>\n",
       "      <td>...</td>\n",
       "      <td>...</td>\n",
       "      <td>...</td>\n",
       "      <td>...</td>\n",
       "      <td>...</td>\n",
       "      <td>...</td>\n",
       "      <td>...</td>\n",
       "      <td>...</td>\n",
       "      <td>...</td>\n",
       "      <td>...</td>\n",
       "      <td>...</td>\n",
       "      <td>...</td>\n",
       "    </tr>\n",
       "    <tr>\n",
       "      <th>61244</th>\n",
       "      <td>251</td>\n",
       "      <td>605.33</td>\n",
       "      <td>1516.36</td>\n",
       "      <td>1315.28</td>\n",
       "      <td>404.59</td>\n",
       "      <td>2319.66</td>\n",
       "      <td>46.08</td>\n",
       "      <td>380.16</td>\n",
       "      <td>2388.73</td>\n",
       "      <td>8.4541</td>\n",
       "      <td>372</td>\n",
       "      <td>29.11</td>\n",
       "      <td>17.5234</td>\n",
       "      <td>4</td>\n",
       "    </tr>\n",
       "    <tr>\n",
       "      <th>61245</th>\n",
       "      <td>252</td>\n",
       "      <td>643.42</td>\n",
       "      <td>1598.92</td>\n",
       "      <td>1426.77</td>\n",
       "      <td>567.59</td>\n",
       "      <td>2388.47</td>\n",
       "      <td>48.04</td>\n",
       "      <td>535.02</td>\n",
       "      <td>2388.46</td>\n",
       "      <td>8.2221</td>\n",
       "      <td>396</td>\n",
       "      <td>39.38</td>\n",
       "      <td>23.7151</td>\n",
       "      <td>3</td>\n",
       "    </tr>\n",
       "    <tr>\n",
       "      <th>61246</th>\n",
       "      <td>253</td>\n",
       "      <td>643.68</td>\n",
       "      <td>1607.72</td>\n",
       "      <td>1430.56</td>\n",
       "      <td>569.04</td>\n",
       "      <td>2388.51</td>\n",
       "      <td>48.24</td>\n",
       "      <td>535.41</td>\n",
       "      <td>2388.48</td>\n",
       "      <td>8.2525</td>\n",
       "      <td>395</td>\n",
       "      <td>39.78</td>\n",
       "      <td>23.8270</td>\n",
       "      <td>2</td>\n",
       "    </tr>\n",
       "    <tr>\n",
       "      <th>61247</th>\n",
       "      <td>254</td>\n",
       "      <td>555.77</td>\n",
       "      <td>1381.29</td>\n",
       "      <td>1148.18</td>\n",
       "      <td>199.93</td>\n",
       "      <td>2223.78</td>\n",
       "      <td>42.53</td>\n",
       "      <td>187.92</td>\n",
       "      <td>2388.83</td>\n",
       "      <td>9.0515</td>\n",
       "      <td>337</td>\n",
       "      <td>15.26</td>\n",
       "      <td>9.0774</td>\n",
       "      <td>1</td>\n",
       "    </tr>\n",
       "    <tr>\n",
       "      <th>61248</th>\n",
       "      <td>255</td>\n",
       "      <td>549.85</td>\n",
       "      <td>1369.75</td>\n",
       "      <td>1147.45</td>\n",
       "      <td>142.47</td>\n",
       "      <td>2212.52</td>\n",
       "      <td>42.60</td>\n",
       "      <td>134.32</td>\n",
       "      <td>2388.66</td>\n",
       "      <td>9.1207</td>\n",
       "      <td>333</td>\n",
       "      <td>10.66</td>\n",
       "      <td>6.4341</td>\n",
       "      <td>0</td>\n",
       "    </tr>\n",
       "  </tbody>\n",
       "</table>\n",
       "<p>160359 rows × 14 columns</p>\n",
       "</div>"
      ],
      "text/plain": [
       "       Cycle  SensorMeasure2  SensorMeasure3  SensorMeasure4  SensorMeasure7  \\\n",
       "0          1          641.82         1589.70         1400.60          554.36   \n",
       "1          2          642.15         1591.82         1403.14          553.75   \n",
       "2          3          642.35         1587.99         1404.20          554.26   \n",
       "3          4          642.35         1582.79         1401.87          554.45   \n",
       "4          5          642.37         1582.85         1406.22          554.00   \n",
       "...      ...             ...             ...             ...             ...   \n",
       "61244    251          605.33         1516.36         1315.28          404.59   \n",
       "61245    252          643.42         1598.92         1426.77          567.59   \n",
       "61246    253          643.68         1607.72         1430.56          569.04   \n",
       "61247    254          555.77         1381.29         1148.18          199.93   \n",
       "61248    255          549.85         1369.75         1147.45          142.47   \n",
       "\n",
       "       SensorMeasure8  SensorMeasure11  SensorMeasure12  SensorMeasure13  \\\n",
       "0             2388.06            47.47           521.66          2388.02   \n",
       "1             2388.04            47.49           522.28          2388.07   \n",
       "2             2388.08            47.27           522.42          2388.03   \n",
       "3             2388.11            47.13           522.86          2388.08   \n",
       "4             2388.06            47.28           522.19          2388.04   \n",
       "...               ...              ...              ...              ...   \n",
       "61244         2319.66            46.08           380.16          2388.73   \n",
       "61245         2388.47            48.04           535.02          2388.46   \n",
       "61246         2388.51            48.24           535.41          2388.48   \n",
       "61247         2223.78            42.53           187.92          2388.83   \n",
       "61248         2212.52            42.60           134.32          2388.66   \n",
       "\n",
       "       SensorMeasure15  SensorMeasure17  SensorMeasure20  SensorMeasure21  RUL  \n",
       "0               8.4195              392            39.06          23.4190  191  \n",
       "1               8.4318              392            39.00          23.4236  190  \n",
       "2               8.4178              390            38.95          23.3442  189  \n",
       "3               8.3682              392            38.88          23.3739  188  \n",
       "4               8.4294              393            38.90          23.4044  187  \n",
       "...                ...              ...              ...              ...  ...  \n",
       "61244           8.4541              372            29.11          17.5234    4  \n",
       "61245           8.2221              396            39.38          23.7151    3  \n",
       "61246           8.2525              395            39.78          23.8270    2  \n",
       "61247           9.0515              337            15.26           9.0774    1  \n",
       "61248           9.1207              333            10.66           6.4341    0  \n",
       "\n",
       "[160359 rows x 14 columns]"
      ]
     },
     "execution_count": 14,
     "metadata": {},
     "output_type": "execute_result"
    }
   ],
   "source": [
    "df"
   ]
  },
  {
   "cell_type": "code",
   "execution_count": 15,
   "metadata": {},
   "outputs": [],
   "source": [
    "df1 = pd.read_csv('Processed_Test_001.csv')\n",
    "df2 = pd.read_csv('Processed_Test_002.csv')\n",
    "df3 = pd.read_csv('Processed_Test_003.csv')\n",
    "df4 = pd.read_csv('Processed_Test_004.csv')\n",
    "\n",
    "df=pd.concat([df1,df2,df3,df4])"
   ]
  },
  {
   "cell_type": "code",
   "execution_count": 16,
   "metadata": {},
   "outputs": [
    {
     "data": {
      "text/html": [
       "<div>\n",
       "<style scoped>\n",
       "    .dataframe tbody tr th:only-of-type {\n",
       "        vertical-align: middle;\n",
       "    }\n",
       "\n",
       "    .dataframe tbody tr th {\n",
       "        vertical-align: top;\n",
       "    }\n",
       "\n",
       "    .dataframe thead th {\n",
       "        text-align: right;\n",
       "    }\n",
       "</style>\n",
       "<table border=\"1\" class=\"dataframe\">\n",
       "  <thead>\n",
       "    <tr style=\"text-align: right;\">\n",
       "      <th></th>\n",
       "      <th>Cycle</th>\n",
       "      <th>SensorMeasure2</th>\n",
       "      <th>SensorMeasure3</th>\n",
       "      <th>SensorMeasure4</th>\n",
       "      <th>SensorMeasure7</th>\n",
       "      <th>SensorMeasure8</th>\n",
       "      <th>SensorMeasure11</th>\n",
       "      <th>SensorMeasure12</th>\n",
       "      <th>SensorMeasure13</th>\n",
       "      <th>SensorMeasure15</th>\n",
       "      <th>SensorMeasure17</th>\n",
       "      <th>SensorMeasure20</th>\n",
       "      <th>SensorMeasure21</th>\n",
       "      <th>RUL</th>\n",
       "    </tr>\n",
       "  </thead>\n",
       "  <tbody>\n",
       "    <tr>\n",
       "      <th>0</th>\n",
       "      <td>1</td>\n",
       "      <td>643.02</td>\n",
       "      <td>1585.29</td>\n",
       "      <td>1398.21</td>\n",
       "      <td>553.90</td>\n",
       "      <td>2388.04</td>\n",
       "      <td>47.20</td>\n",
       "      <td>521.72</td>\n",
       "      <td>2388.03</td>\n",
       "      <td>8.4052</td>\n",
       "      <td>392</td>\n",
       "      <td>38.86</td>\n",
       "      <td>23.3735</td>\n",
       "      <td>142</td>\n",
       "    </tr>\n",
       "    <tr>\n",
       "      <th>1</th>\n",
       "      <td>2</td>\n",
       "      <td>641.71</td>\n",
       "      <td>1588.45</td>\n",
       "      <td>1395.42</td>\n",
       "      <td>554.85</td>\n",
       "      <td>2388.01</td>\n",
       "      <td>47.50</td>\n",
       "      <td>522.16</td>\n",
       "      <td>2388.06</td>\n",
       "      <td>8.3803</td>\n",
       "      <td>393</td>\n",
       "      <td>39.02</td>\n",
       "      <td>23.3916</td>\n",
       "      <td>141</td>\n",
       "    </tr>\n",
       "    <tr>\n",
       "      <th>2</th>\n",
       "      <td>3</td>\n",
       "      <td>642.46</td>\n",
       "      <td>1586.94</td>\n",
       "      <td>1401.34</td>\n",
       "      <td>554.11</td>\n",
       "      <td>2388.05</td>\n",
       "      <td>47.50</td>\n",
       "      <td>521.97</td>\n",
       "      <td>2388.03</td>\n",
       "      <td>8.4441</td>\n",
       "      <td>393</td>\n",
       "      <td>39.08</td>\n",
       "      <td>23.4166</td>\n",
       "      <td>140</td>\n",
       "    </tr>\n",
       "    <tr>\n",
       "      <th>3</th>\n",
       "      <td>4</td>\n",
       "      <td>642.44</td>\n",
       "      <td>1584.12</td>\n",
       "      <td>1406.42</td>\n",
       "      <td>554.07</td>\n",
       "      <td>2388.03</td>\n",
       "      <td>47.28</td>\n",
       "      <td>521.38</td>\n",
       "      <td>2388.05</td>\n",
       "      <td>8.3917</td>\n",
       "      <td>391</td>\n",
       "      <td>39.00</td>\n",
       "      <td>23.3737</td>\n",
       "      <td>139</td>\n",
       "    </tr>\n",
       "    <tr>\n",
       "      <th>4</th>\n",
       "      <td>5</td>\n",
       "      <td>642.51</td>\n",
       "      <td>1587.19</td>\n",
       "      <td>1401.92</td>\n",
       "      <td>554.16</td>\n",
       "      <td>2388.01</td>\n",
       "      <td>47.31</td>\n",
       "      <td>522.15</td>\n",
       "      <td>2388.03</td>\n",
       "      <td>8.4031</td>\n",
       "      <td>390</td>\n",
       "      <td>38.99</td>\n",
       "      <td>23.4130</td>\n",
       "      <td>138</td>\n",
       "    </tr>\n",
       "    <tr>\n",
       "      <th>...</th>\n",
       "      <td>...</td>\n",
       "      <td>...</td>\n",
       "      <td>...</td>\n",
       "      <td>...</td>\n",
       "      <td>...</td>\n",
       "      <td>...</td>\n",
       "      <td>...</td>\n",
       "      <td>...</td>\n",
       "      <td>...</td>\n",
       "      <td>...</td>\n",
       "      <td>...</td>\n",
       "      <td>...</td>\n",
       "      <td>...</td>\n",
       "      <td>...</td>\n",
       "    </tr>\n",
       "    <tr>\n",
       "      <th>41209</th>\n",
       "      <td>277</td>\n",
       "      <td>550.30</td>\n",
       "      <td>1364.40</td>\n",
       "      <td>1129.17</td>\n",
       "      <td>138.34</td>\n",
       "      <td>2212.35</td>\n",
       "      <td>42.30</td>\n",
       "      <td>130.87</td>\n",
       "      <td>2388.50</td>\n",
       "      <td>9.4427</td>\n",
       "      <td>331</td>\n",
       "      <td>10.53</td>\n",
       "      <td>6.2620</td>\n",
       "      <td>30</td>\n",
       "    </tr>\n",
       "    <tr>\n",
       "      <th>41210</th>\n",
       "      <td>278</td>\n",
       "      <td>608.00</td>\n",
       "      <td>1494.75</td>\n",
       "      <td>1260.88</td>\n",
       "      <td>334.75</td>\n",
       "      <td>2324.23</td>\n",
       "      <td>44.53</td>\n",
       "      <td>314.51</td>\n",
       "      <td>2388.33</td>\n",
       "      <td>9.2772</td>\n",
       "      <td>366</td>\n",
       "      <td>24.33</td>\n",
       "      <td>14.6486</td>\n",
       "      <td>29</td>\n",
       "    </tr>\n",
       "    <tr>\n",
       "      <th>41211</th>\n",
       "      <td>279</td>\n",
       "      <td>555.92</td>\n",
       "      <td>1370.65</td>\n",
       "      <td>1130.97</td>\n",
       "      <td>194.92</td>\n",
       "      <td>2223.57</td>\n",
       "      <td>42.33</td>\n",
       "      <td>182.76</td>\n",
       "      <td>2388.64</td>\n",
       "      <td>9.3982</td>\n",
       "      <td>336</td>\n",
       "      <td>14.69</td>\n",
       "      <td>8.8389</td>\n",
       "      <td>28</td>\n",
       "    </tr>\n",
       "    <tr>\n",
       "      <th>41212</th>\n",
       "      <td>280</td>\n",
       "      <td>608.19</td>\n",
       "      <td>1489.11</td>\n",
       "      <td>1256.25</td>\n",
       "      <td>333.15</td>\n",
       "      <td>2324.19</td>\n",
       "      <td>44.78</td>\n",
       "      <td>314.17</td>\n",
       "      <td>2388.37</td>\n",
       "      <td>9.2727</td>\n",
       "      <td>366</td>\n",
       "      <td>24.44</td>\n",
       "      <td>14.6887</td>\n",
       "      <td>27</td>\n",
       "    </tr>\n",
       "    <tr>\n",
       "      <th>41213</th>\n",
       "      <td>281</td>\n",
       "      <td>556.40</td>\n",
       "      <td>1378.58</td>\n",
       "      <td>1140.70</td>\n",
       "      <td>194.26</td>\n",
       "      <td>2223.50</td>\n",
       "      <td>42.08</td>\n",
       "      <td>181.88</td>\n",
       "      <td>2388.59</td>\n",
       "      <td>9.3964</td>\n",
       "      <td>335</td>\n",
       "      <td>14.72</td>\n",
       "      <td>8.8502</td>\n",
       "      <td>26</td>\n",
       "    </tr>\n",
       "  </tbody>\n",
       "</table>\n",
       "<p>104897 rows × 14 columns</p>\n",
       "</div>"
      ],
      "text/plain": [
       "       Cycle  SensorMeasure2  SensorMeasure3  SensorMeasure4  SensorMeasure7  \\\n",
       "0          1          643.02         1585.29         1398.21          553.90   \n",
       "1          2          641.71         1588.45         1395.42          554.85   \n",
       "2          3          642.46         1586.94         1401.34          554.11   \n",
       "3          4          642.44         1584.12         1406.42          554.07   \n",
       "4          5          642.51         1587.19         1401.92          554.16   \n",
       "...      ...             ...             ...             ...             ...   \n",
       "41209    277          550.30         1364.40         1129.17          138.34   \n",
       "41210    278          608.00         1494.75         1260.88          334.75   \n",
       "41211    279          555.92         1370.65         1130.97          194.92   \n",
       "41212    280          608.19         1489.11         1256.25          333.15   \n",
       "41213    281          556.40         1378.58         1140.70          194.26   \n",
       "\n",
       "       SensorMeasure8  SensorMeasure11  SensorMeasure12  SensorMeasure13  \\\n",
       "0             2388.04            47.20           521.72          2388.03   \n",
       "1             2388.01            47.50           522.16          2388.06   \n",
       "2             2388.05            47.50           521.97          2388.03   \n",
       "3             2388.03            47.28           521.38          2388.05   \n",
       "4             2388.01            47.31           522.15          2388.03   \n",
       "...               ...              ...              ...              ...   \n",
       "41209         2212.35            42.30           130.87          2388.50   \n",
       "41210         2324.23            44.53           314.51          2388.33   \n",
       "41211         2223.57            42.33           182.76          2388.64   \n",
       "41212         2324.19            44.78           314.17          2388.37   \n",
       "41213         2223.50            42.08           181.88          2388.59   \n",
       "\n",
       "       SensorMeasure15  SensorMeasure17  SensorMeasure20  SensorMeasure21  RUL  \n",
       "0               8.4052              392            38.86          23.3735  142  \n",
       "1               8.3803              393            39.02          23.3916  141  \n",
       "2               8.4441              393            39.08          23.4166  140  \n",
       "3               8.3917              391            39.00          23.3737  139  \n",
       "4               8.4031              390            38.99          23.4130  138  \n",
       "...                ...              ...              ...              ...  ...  \n",
       "41209           9.4427              331            10.53           6.2620   30  \n",
       "41210           9.2772              366            24.33          14.6486   29  \n",
       "41211           9.3982              336            14.69           8.8389   28  \n",
       "41212           9.2727              366            24.44          14.6887   27  \n",
       "41213           9.3964              335            14.72           8.8502   26  \n",
       "\n",
       "[104897 rows x 14 columns]"
      ]
     },
     "execution_count": 16,
     "metadata": {},
     "output_type": "execute_result"
    }
   ],
   "source": [
    "df"
   ]
  },
  {
   "cell_type": "markdown",
   "metadata": {},
   "source": [
    "Dividing into Features and Target"
   ]
  },
  {
   "cell_type": "code",
   "execution_count": 17,
   "metadata": {},
   "outputs": [],
   "source": [
    "x = df.iloc[:, 0:-1]\n",
    "y = df.iloc[:, -1]\n",
    " \n",
    "x_train, x_test, y_train, y_test = train_test_split(x, y, test_size=0.2, shuffle=False)"
   ]
  },
  {
   "cell_type": "markdown",
   "metadata": {},
   "source": [
    "Training a Random Forest Regression Model"
   ]
  },
  {
   "cell_type": "code",
   "execution_count": 18,
   "metadata": {},
   "outputs": [
    {
     "data": {
      "text/html": [
       "<style>#sk-container-id-1 {color: black;}#sk-container-id-1 pre{padding: 0;}#sk-container-id-1 div.sk-toggleable {background-color: white;}#sk-container-id-1 label.sk-toggleable__label {cursor: pointer;display: block;width: 100%;margin-bottom: 0;padding: 0.3em;box-sizing: border-box;text-align: center;}#sk-container-id-1 label.sk-toggleable__label-arrow:before {content: \"▸\";float: left;margin-right: 0.25em;color: #696969;}#sk-container-id-1 label.sk-toggleable__label-arrow:hover:before {color: black;}#sk-container-id-1 div.sk-estimator:hover label.sk-toggleable__label-arrow:before {color: black;}#sk-container-id-1 div.sk-toggleable__content {max-height: 0;max-width: 0;overflow: hidden;text-align: left;background-color: #f0f8ff;}#sk-container-id-1 div.sk-toggleable__content pre {margin: 0.2em;color: black;border-radius: 0.25em;background-color: #f0f8ff;}#sk-container-id-1 input.sk-toggleable__control:checked~div.sk-toggleable__content {max-height: 200px;max-width: 100%;overflow: auto;}#sk-container-id-1 input.sk-toggleable__control:checked~label.sk-toggleable__label-arrow:before {content: \"▾\";}#sk-container-id-1 div.sk-estimator input.sk-toggleable__control:checked~label.sk-toggleable__label {background-color: #d4ebff;}#sk-container-id-1 div.sk-label input.sk-toggleable__control:checked~label.sk-toggleable__label {background-color: #d4ebff;}#sk-container-id-1 input.sk-hidden--visually {border: 0;clip: rect(1px 1px 1px 1px);clip: rect(1px, 1px, 1px, 1px);height: 1px;margin: -1px;overflow: hidden;padding: 0;position: absolute;width: 1px;}#sk-container-id-1 div.sk-estimator {font-family: monospace;background-color: #f0f8ff;border: 1px dotted black;border-radius: 0.25em;box-sizing: border-box;margin-bottom: 0.5em;}#sk-container-id-1 div.sk-estimator:hover {background-color: #d4ebff;}#sk-container-id-1 div.sk-parallel-item::after {content: \"\";width: 100%;border-bottom: 1px solid gray;flex-grow: 1;}#sk-container-id-1 div.sk-label:hover label.sk-toggleable__label {background-color: #d4ebff;}#sk-container-id-1 div.sk-serial::before {content: \"\";position: absolute;border-left: 1px solid gray;box-sizing: border-box;top: 0;bottom: 0;left: 50%;z-index: 0;}#sk-container-id-1 div.sk-serial {display: flex;flex-direction: column;align-items: center;background-color: white;padding-right: 0.2em;padding-left: 0.2em;position: relative;}#sk-container-id-1 div.sk-item {position: relative;z-index: 1;}#sk-container-id-1 div.sk-parallel {display: flex;align-items: stretch;justify-content: center;background-color: white;position: relative;}#sk-container-id-1 div.sk-item::before, #sk-container-id-1 div.sk-parallel-item::before {content: \"\";position: absolute;border-left: 1px solid gray;box-sizing: border-box;top: 0;bottom: 0;left: 50%;z-index: -1;}#sk-container-id-1 div.sk-parallel-item {display: flex;flex-direction: column;z-index: 1;position: relative;background-color: white;}#sk-container-id-1 div.sk-parallel-item:first-child::after {align-self: flex-end;width: 50%;}#sk-container-id-1 div.sk-parallel-item:last-child::after {align-self: flex-start;width: 50%;}#sk-container-id-1 div.sk-parallel-item:only-child::after {width: 0;}#sk-container-id-1 div.sk-dashed-wrapped {border: 1px dashed gray;margin: 0 0.4em 0.5em 0.4em;box-sizing: border-box;padding-bottom: 0.4em;background-color: white;}#sk-container-id-1 div.sk-label label {font-family: monospace;font-weight: bold;display: inline-block;line-height: 1.2em;}#sk-container-id-1 div.sk-label-container {text-align: center;}#sk-container-id-1 div.sk-container {/* jupyter's `normalize.less` sets `[hidden] { display: none; }` but bootstrap.min.css set `[hidden] { display: none !important; }` so we also need the `!important` here to be able to override the default hidden behavior on the sphinx rendered scikit-learn.org. See: https://github.com/scikit-learn/scikit-learn/issues/21755 */display: inline-block !important;position: relative;}#sk-container-id-1 div.sk-text-repr-fallback {display: none;}</style><div id=\"sk-container-id-1\" class=\"sk-top-container\"><div class=\"sk-text-repr-fallback\"><pre>RandomForestRegressor()</pre><b>In a Jupyter environment, please rerun this cell to show the HTML representation or trust the notebook. <br />On GitHub, the HTML representation is unable to render, please try loading this page with nbviewer.org.</b></div><div class=\"sk-container\" hidden><div class=\"sk-item\"><div class=\"sk-estimator sk-toggleable\"><input class=\"sk-toggleable__control sk-hidden--visually\" id=\"sk-estimator-id-1\" type=\"checkbox\" checked><label for=\"sk-estimator-id-1\" class=\"sk-toggleable__label sk-toggleable__label-arrow\">RandomForestRegressor</label><div class=\"sk-toggleable__content\"><pre>RandomForestRegressor()</pre></div></div></div></div></div>"
      ],
      "text/plain": [
       "RandomForestRegressor()"
      ]
     },
     "execution_count": 18,
     "metadata": {},
     "output_type": "execute_result"
    }
   ],
   "source": [
    "regressor = RandomForestRegressor()\n",
    "regressor.fit(x_train,y_train)"
   ]
  },
  {
   "cell_type": "code",
   "execution_count": 19,
   "metadata": {},
   "outputs": [
    {
     "name": "stdout",
     "output_type": "stream",
     "text": [
      "RMSE on Test set: 66.02925594216896\n",
      "RMSE on Training set: 20.652040350936762\n"
     ]
    }
   ],
   "source": [
    "y_pred = regressor.predict(x_test)\n",
    "print('RMSE on Test set:', np.sqrt(metrics.mean_squared_error(y_test, y_pred)))\n",
    "\n",
    "y_pred = regressor.predict(x_train)\n",
    "print('RMSE on Training set:', np.sqrt(metrics.mean_squared_error(y_train, y_pred)))"
   ]
  },
  {
   "cell_type": "code",
   "execution_count": 20,
   "metadata": {},
   "outputs": [
    {
     "data": {
      "image/png": "[encoded data removed]",
      "text/plain": [
       "<Figure size 640x480 with 1 Axes>"
      ]
     },
     "metadata": {},
     "output_type": "display_data"
    },
    {
     "name": "stdout",
     "output_type": "stream",
     "text": [
      "RMSE on Train set: 33.511401992895074\n"
     ]
    }
   ],
   "source": [
    "x1, y1 = give_Train_engine(3, 37)\n",
    "\n",
    "y_pred_train = regressor.predict(x1)\n",
    "\n",
    "plt.plot(x1['Cycle'], y_pred_train) \n",
    "plt.plot(x1['Cycle'], y1)\n",
    "plt.ylabel('RUL')\n",
    "plt.xlabel('CYCLE')\n",
    "plt.legend(['Prediction', 'Actual'], loc='upper right')\n",
    "plt.show()\n",
    "\n",
    "print('RMSE on Train set:', np.sqrt(metrics.mean_squared_error(y1, y_pred_train)))  "
   ]
  },
  {
   "cell_type": "markdown",
   "metadata": {},
   "source": [
    "Performance on Train Set"
   ]
  },
  {
   "cell_type": "markdown",
   "metadata": {},
   "source": [
    "Moving Average"
   ]
  },
  {
   "cell_type": "code",
   "execution_count": 21,
   "metadata": {},
   "outputs": [],
   "source": [
    "\n",
    "def moving_average(window_size, y_pred):\n",
    "    numbers_series = pd.Series(y_pred)\n",
    "    windows = numbers_series.rolling(window_size)\n",
    "    moving_averages = windows.mean()\n",
    "\n",
    "    moving_averages_list = moving_averages.tolist()\n",
    "    y_pred_avg = moving_averages_list[window_size - 1:]\n",
    "    return y_pred_avg\n"
   ]
  },
  {
   "cell_type": "code",
   "execution_count": 22,
   "metadata": {},
   "outputs": [
    {
     "name": "stdout",
     "output_type": "stream",
     "text": [
      "Index(['ID', 'Cycle', 'SensorMeasure2', 'SensorMeasure3', 'SensorMeasure4',\n",
      "       'SensorMeasure7', 'SensorMeasure8', 'SensorMeasure11',\n",
      "       'SensorMeasure12', 'SensorMeasure13', 'SensorMeasure15',\n",
      "       'SensorMeasure17', 'SensorMeasure20', 'SensorMeasure21', 'RUL'],\n",
      "      dtype='object')\n"
     ]
    }
   ],
   "source": [
    "df = pd.read_csv(\"Processed_Train_004.csv\")\n",
    "print(df.columns)\n"
   ]
  },
  {
   "cell_type": "code",
   "execution_count": 23,
   "metadata": {},
   "outputs": [
    {
     "name": "stdout",
     "output_type": "stream",
     "text": [
      "Index(['Cycle', 'SensorMeasure2', 'SensorMeasure3', 'SensorMeasure4',\n",
      "       'SensorMeasure7', 'SensorMeasure8', 'SensorMeasure11',\n",
      "       'SensorMeasure12', 'SensorMeasure13', 'SensorMeasure15',\n",
      "       'SensorMeasure17', 'SensorMeasure20', 'SensorMeasure21', 'RUL'],\n",
      "      dtype='object')\n"
     ]
    }
   ],
   "source": [
    "df = pd.read_csv(\"Processed_Test_003.csv\")\n",
    "print(df.columns)\n"
   ]
  },
  {
   "cell_type": "code",
   "execution_count": 24,
   "metadata": {},
   "outputs": [
    {
     "name": "stdout",
     "output_type": "stream",
     "text": [
      "Index(['Cycle', 'SensorMeasure2', 'SensorMeasure3', 'SensorMeasure4',\n",
      "       'SensorMeasure7', 'SensorMeasure8', 'SensorMeasure11',\n",
      "       'SensorMeasure12', 'SensorMeasure13', 'SensorMeasure15',\n",
      "       'SensorMeasure17', 'SensorMeasure20', 'SensorMeasure21', 'RUL'],\n",
      "      dtype='object')\n"
     ]
    }
   ],
   "source": [
    "df = pd.read_csv(\"Processed_Test_004.csv\")\n",
    "print(df.columns)\n"
   ]
  },
  {
   "cell_type": "code",
   "execution_count": 25,
   "metadata": {},
   "outputs": [
    {
     "name": "stdout",
     "output_type": "stream",
     "text": [
      "RMSE on Test set: 58.830943565938604\n"
     ]
    },
    {
     "data": {
      "image/png": "[encoded data removed]",
      "text/plain": [
       "<Figure size 640x480 with 1 Axes>"
      ]
     },
     "metadata": {},
     "output_type": "display_data"
    }
   ],
   "source": [
    "\n",
    "x_test, y_test = give_Test_engine(3, 37)  # Modify these indices as needed\n",
    "y_pred = regressor.predict(x_test)\n",
    "\n",
    "window_size = 10\n",
    "y_pred = moving_average(window_size, y_pred)\n",
    "\n",
    "print('RMSE on Test set:', np.sqrt(metrics.mean_squared_error(y_test[0:len(y_pred)], y_pred)))\n",
    "\n",
    "plt.plot(y_pred)\n",
    "plt.plot(np.array(y_test))\n",
    "plt.ylabel('RUL')\n",
    "plt.xlabel('CYCLES')\n",
    "plt.legend(['Prediction', 'Actual'])\n",
    "plt.show()\n"
   ]
  }
 ],
 "metadata": {
  "kernelspec": {
   "display_name": "Python 3",
   "language": "python",
   "name": "python3"
  },
  "language_info": {
   "codemirror_mode": {
    "name": "ipython",
    "version": 3
   },
   "file_extension": ".py",
   "mimetype": "text/x-python",
   "name": "python",
   "nbconvert_exporter": "python",
   "pygments_lexer": "ipython3",
   "version": "3.11.2"
  }
 },
 "nbformat": 4,
 "nbformat_minor": 2
}
